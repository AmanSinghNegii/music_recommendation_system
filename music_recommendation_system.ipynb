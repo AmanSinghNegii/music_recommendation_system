{
 "cells": [
  {
   "cell_type": "code",
   "execution_count": 2,
   "id": "e0e74dfd-77a3-4f28-af9b-cd02f598a3db",
   "metadata": {},
   "outputs": [
    {
     "name": "stdout",
     "output_type": "stream",
     "text": [
      "Requirement already satisfied: spotipy in c:\\users\\aman\\anaconda3\\lib\\site-packages (2.23.0)\n",
      "Requirement already satisfied: redis>=3.5.3 in c:\\users\\aman\\anaconda3\\lib\\site-packages (from spotipy) (5.0.3)\n",
      "Requirement already satisfied: requests>=2.25.0 in c:\\users\\aman\\anaconda3\\lib\\site-packages (from spotipy) (2.31.0)\n",
      "Requirement already satisfied: six>=1.15.0 in c:\\users\\aman\\anaconda3\\lib\\site-packages (from spotipy) (1.16.0)\n",
      "Requirement already satisfied: urllib3>=1.26.0 in c:\\users\\aman\\anaconda3\\lib\\site-packages (from spotipy) (2.0.7)\n",
      "Requirement already satisfied: charset-normalizer<4,>=2 in c:\\users\\aman\\anaconda3\\lib\\site-packages (from requests>=2.25.0->spotipy) (2.0.4)\n",
      "Requirement already satisfied: idna<4,>=2.5 in c:\\users\\aman\\anaconda3\\lib\\site-packages (from requests>=2.25.0->spotipy) (3.4)\n",
      "Requirement already satisfied: certifi>=2017.4.17 in c:\\users\\aman\\anaconda3\\lib\\site-packages (from requests>=2.25.0->spotipy) (2024.2.2)\n"
     ]
    }
   ],
   "source": [
    "!pip install spotipy"
   ]
  },
  {
   "cell_type": "code",
   "execution_count": 3,
   "id": "d86af438-1dda-4858-9136-e6f843fac701",
   "metadata": {},
   "outputs": [],
   "source": [
    "import spotipy\n",
    "from spotipy.oauth2 import SpotifyClientCredentials\n"
   ]
  },
  {
   "cell_type": "markdown",
   "id": "1f5c6f15-7b29-4cf5-b827-0ec17571a51f",
   "metadata": {},
   "source": [
    "Authonticate with soptify API"
   ]
  },
  {
   "cell_type": "code",
   "execution_count": 4,
   "id": "c979c6c5-8008-4a57-a4cb-65973b8f9b32",
   "metadata": {},
   "outputs": [],
   "source": [
    "client_id = '1c9f1311b702482d8f7e1e792a29e7c3'\n",
    "client_secret = 'f918f7b7e0104b0dbb4c1b3a71c7226f'\n",
    "\n",
    "\n",
    "client_credentials_manager = SpotifyClientCredentials(client_id=client_id, client_secret=client_secret)\n",
    "sp = spotipy.Spotify(client_credentials_manager=client_credentials_manager)\n"
   ]
  },
  {
   "cell_type": "code",
   "execution_count": 5,
   "id": "cc2d29e5-7fa6-47c4-b361-de4ba4e4bba2",
   "metadata": {},
   "outputs": [],
   "source": [
    "def fetch_spotify_recommendations(song_name):\n",
    "    results = sp.search(q='track:' + song_name, limit=1)\n",
    "    if len(results['tracks']['items']) == 0:\n",
    "        return \"Song not found in Spotify. Please try another song.\"\n",
    "    \n",
    "    track_id = results['tracks']['items'][0]['id']\n",
    "    recommendations = sp.recommendations(seed_tracks=[track_id], limit=5)\n",
    "    return [track['name'] for track in recommendations['tracks']]\n"
   ]
  },
  {
   "cell_type": "code",
   "execution_count": 7,
   "id": "4dc3c1d7-ca21-4e32-9cb6-636abcda6d2e",
   "metadata": {},
   "outputs": [
    {
     "name": "stdin",
     "output_type": "stream",
     "text": [
      "Enter a song name:  happier\n"
     ]
    },
    {
     "name": "stdout",
     "output_type": "stream",
     "text": [
      "Songs similar to happier : ['Electricity (with Dua Lipa)', 'Let It Go', 'Sit Still, Look Pretty', 'Crazy', 'I Feel It Coming']\n"
     ]
    }
   ],
   "source": [
    "user_input = input(\"Enter a song name: \")\n",
    "spotify_recommendations = fetch_spotify_recommendations(user_input)\n",
    "\n",
    "if isinstance(spotify_recommendations, str):\n",
    "    print(spotify_recommendations)\n",
    "else:\n",
    "    print(\"Songs similar to\", user_input, \":\", spotify_recommendations)\n"
   ]
  },
  {
   "cell_type": "code",
   "execution_count": null,
   "id": "3c409866-3ef7-42e5-a5b7-2d0db3078030",
   "metadata": {},
   "outputs": [],
   "source": []
  }
 ],
 "metadata": {
  "kernelspec": {
   "display_name": "Python 3 (ipykernel)",
   "language": "python",
   "name": "python3"
  },
  "language_info": {
   "codemirror_mode": {
    "name": "ipython",
    "version": 3
   },
   "file_extension": ".py",
   "mimetype": "text/x-python",
   "name": "python",
   "nbconvert_exporter": "python",
   "pygments_lexer": "ipython3",
   "version": "3.11.7"
  }
 },
 "nbformat": 4,
 "nbformat_minor": 5
}
